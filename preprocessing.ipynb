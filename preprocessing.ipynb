{
  "nbformat": 4,
  "nbformat_minor": 0,
  "metadata": {
    "colab": {
      "name": "preprocessing.ipynb",
      "provenance": [],
      "collapsed_sections": [],
      "mount_file_id": "13bHvnK7zfp_rcdXZHbUmNM7-xIX2ynHY",
      "authorship_tag": "ABX9TyNIRADoX05HXhlUvY/tOJY6",
      "include_colab_link": true
    },
    "kernelspec": {
      "name": "python3",
      "display_name": "Python 3"
    }
  },
  "cells": [
    {
      "cell_type": "markdown",
      "metadata": {
        "id": "view-in-github",
        "colab_type": "text"
      },
      "source": [
        "<a href=\"https://colab.research.google.com/github/myxa/PandemicDataHack/blob/main/preprocessing.ipynb\" target=\"_parent\"><img src=\"https://colab.research.google.com/assets/colab-badge.svg\" alt=\"Open In Colab\"/></a>"
      ]
    },
    {
      "cell_type": "markdown",
      "metadata": {
        "id": "0hZx6jjZ0W8z"
      },
      "source": [
        "# В этой тетрадке мы чистим данные для нашей модели."
      ]
    },
    {
      "cell_type": "markdown",
      "metadata": {
        "id": "B5cEvV7m005X"
      },
      "source": [
        "Для начала импротируем все, что нужно и не нужно."
      ]
    },
    {
      "cell_type": "code",
      "metadata": {
        "id": "64d3Ijjg0EqL"
      },
      "source": [
        "import numpy as np\r\n",
        "import pandas as pd\r\n",
        "import regex as re\r\n",
        "\r\n",
        "import warnings\r\n",
        "warnings.filterwarnings('ignore')"
      ],
      "execution_count": 6,
      "outputs": []
    },
    {
      "cell_type": "code",
      "metadata": {
        "id": "vocMjAQP2fk1"
      },
      "source": [
        "! unzip '/content/drive/MyDrive/pandemicdatahack.zip'"
      ],
      "execution_count": null,
      "outputs": []
    },
    {
      "cell_type": "code",
      "metadata": {
        "colab": {
          "base_uri": "https://localhost:8080/",
          "height": 455
        },
        "id": "5JrIUMpr1O2k",
        "outputId": "53689cf2-4e96-4d60-e1e2-e6be3af3213c"
      },
      "source": [
        "train = pd.read_csv('/content/train.csv', sep=';')\r\n",
        "test = pd.read_csv('/content/test.csv', sep=';')\r\n",
        "\r\n",
        "train.sample(5)"
      ],
      "execution_count": 25,
      "outputs": [
        {
          "output_type": "execute_result",
          "data": {
            "text/html": [
              "<div>\n",
              "<style scoped>\n",
              "    .dataframe tbody tr th:only-of-type {\n",
              "        vertical-align: middle;\n",
              "    }\n",
              "\n",
              "    .dataframe tbody tr th {\n",
              "        vertical-align: top;\n",
              "    }\n",
              "\n",
              "    .dataframe thead th {\n",
              "        text-align: right;\n",
              "    }\n",
              "</style>\n",
              "<table border=\"1\" class=\"dataframe\">\n",
              "  <thead>\n",
              "    <tr style=\"text-align: right;\">\n",
              "      <th></th>\n",
              "      <th>id</th>\n",
              "      <th>position</th>\n",
              "      <th>region</th>\n",
              "      <th>industry</th>\n",
              "      <th>locality</th>\n",
              "      <th>locality_name</th>\n",
              "      <th>education_type</th>\n",
              "      <th>drive_licences</th>\n",
              "      <th>citizenship</th>\n",
              "      <th>schedule</th>\n",
              "      <th>employement_type</th>\n",
              "      <th>age</th>\n",
              "      <th>gender</th>\n",
              "      <th>experience</th>\n",
              "      <th>salary_desired</th>\n",
              "      <th>relocation_ready</th>\n",
              "      <th>travel_ready</th>\n",
              "      <th>retraining_ready</th>\n",
              "      <th>is_worldskills_participant</th>\n",
              "      <th>has_qualifications</th>\n",
              "      <th>completeness_rate</th>\n",
              "      <th>creation_date</th>\n",
              "      <th>modification_date</th>\n",
              "      <th>publish_date</th>\n",
              "      <th>salary</th>\n",
              "    </tr>\n",
              "  </thead>\n",
              "  <tbody>\n",
              "    <tr>\n",
              "      <th>285320</th>\n",
              "      <td>407412</td>\n",
              "      <td>Финансовый менеджер</td>\n",
              "      <td>Волгоградская область</td>\n",
              "      <td>Финансы, кредит, страхование, пенсионное обесп...</td>\n",
              "      <td>3400000100000</td>\n",
              "      <td>Волгоград</td>\n",
              "      <td>Высшее</td>\n",
              "      <td>[B]</td>\n",
              "      <td>Российская Федерация</td>\n",
              "      <td>Полный рабочий день</td>\n",
              "      <td>Полная занятость</td>\n",
              "      <td>44.0</td>\n",
              "      <td>Мужской</td>\n",
              "      <td>0</td>\n",
              "      <td>83040</td>\n",
              "      <td>True</td>\n",
              "      <td>True</td>\n",
              "      <td>True</td>\n",
              "      <td>NaN</td>\n",
              "      <td>NaN</td>\n",
              "      <td>56.0</td>\n",
              "      <td>2017-10-18</td>\n",
              "      <td>2019-06-06</td>\n",
              "      <td>2019-06-03</td>\n",
              "      <td>155700</td>\n",
              "    </tr>\n",
              "    <tr>\n",
              "      <th>213548</th>\n",
              "      <td>305026</td>\n",
              "      <td>Администратор, педагог по английскому</td>\n",
              "      <td>Республика Коми</td>\n",
              "      <td>Образование, наука</td>\n",
              "      <td>1100000100000</td>\n",
              "      <td>Сыктывкар</td>\n",
              "      <td>Высшее</td>\n",
              "      <td>NaN</td>\n",
              "      <td>Российская Федерация</td>\n",
              "      <td>Полный рабочий день</td>\n",
              "      <td>Полная занятость</td>\n",
              "      <td>31.0</td>\n",
              "      <td>Женский</td>\n",
              "      <td>8</td>\n",
              "      <td>30000</td>\n",
              "      <td>True</td>\n",
              "      <td>True</td>\n",
              "      <td>True</td>\n",
              "      <td>NaN</td>\n",
              "      <td>NaN</td>\n",
              "      <td>85.0</td>\n",
              "      <td>2020-05-21</td>\n",
              "      <td>2020-08-07</td>\n",
              "      <td>2020-08-07</td>\n",
              "      <td>20621</td>\n",
              "    </tr>\n",
              "    <tr>\n",
              "      <th>223885</th>\n",
              "      <td>319885</td>\n",
              "      <td>хочу работать педагогом -организатором</td>\n",
              "      <td>Удмуртская Республика</td>\n",
              "      <td>Образование, наука</td>\n",
              "      <td>1800000000000</td>\n",
              "      <td>Удмуртская</td>\n",
              "      <td>Среднее профессиональное</td>\n",
              "      <td>NaN</td>\n",
              "      <td>Российская Федерация</td>\n",
              "      <td>Полный рабочий день</td>\n",
              "      <td>Полная занятость</td>\n",
              "      <td>21.0</td>\n",
              "      <td>Женский</td>\n",
              "      <td>0</td>\n",
              "      <td>15570</td>\n",
              "      <td>True</td>\n",
              "      <td>True</td>\n",
              "      <td>True</td>\n",
              "      <td>NaN</td>\n",
              "      <td>NaN</td>\n",
              "      <td>79.0</td>\n",
              "      <td>2019-08-11</td>\n",
              "      <td>2020-03-19</td>\n",
              "      <td>2019-08-12</td>\n",
              "      <td>13465</td>\n",
              "    </tr>\n",
              "    <tr>\n",
              "      <th>123421</th>\n",
              "      <td>176260</td>\n",
              "      <td>Сотрудник полиции</td>\n",
              "      <td>г. Санкт-Петербург</td>\n",
              "      <td>Безопасность, службы охраны</td>\n",
              "      <td>7800000400000</td>\n",
              "      <td>Красное Село</td>\n",
              "      <td>Среднее профессиональное</td>\n",
              "      <td>NaN</td>\n",
              "      <td>Российская Федерация</td>\n",
              "      <td>Полный рабочий день,Сменный график</td>\n",
              "      <td>Полная занятость</td>\n",
              "      <td>23.0</td>\n",
              "      <td>Женский</td>\n",
              "      <td>4</td>\n",
              "      <td>35000</td>\n",
              "      <td>False</td>\n",
              "      <td>True</td>\n",
              "      <td>True</td>\n",
              "      <td>NaN</td>\n",
              "      <td>NaN</td>\n",
              "      <td>77.0</td>\n",
              "      <td>2019-03-25</td>\n",
              "      <td>2020-07-22</td>\n",
              "      <td>2020-06-07</td>\n",
              "      <td>42500</td>\n",
              "    </tr>\n",
              "    <tr>\n",
              "      <th>131722</th>\n",
              "      <td>188049</td>\n",
              "      <td>Специалист</td>\n",
              "      <td>Краснодарский край</td>\n",
              "      <td>Финансы, кредит, страхование, пенсионное обесп...</td>\n",
              "      <td>2300000100000</td>\n",
              "      <td>Краснодар</td>\n",
              "      <td>Высшее</td>\n",
              "      <td>NaN</td>\n",
              "      <td>Российская Федерация</td>\n",
              "      <td>Полный рабочий день</td>\n",
              "      <td>Полная занятость</td>\n",
              "      <td>36.0</td>\n",
              "      <td>Женский</td>\n",
              "      <td>9</td>\n",
              "      <td>40000</td>\n",
              "      <td>False</td>\n",
              "      <td>False</td>\n",
              "      <td>True</td>\n",
              "      <td>NaN</td>\n",
              "      <td>NaN</td>\n",
              "      <td>91.0</td>\n",
              "      <td>2020-04-28</td>\n",
              "      <td>2020-06-24</td>\n",
              "      <td>2020-06-23</td>\n",
              "      <td>49600</td>\n",
              "    </tr>\n",
              "  </tbody>\n",
              "</table>\n",
              "</div>"
            ],
            "text/plain": [
              "            id                                position  ... publish_date  salary\n",
              "285320  407412                     Финансовый менеджер  ...   2019-06-03  155700\n",
              "213548  305026   Администратор, педагог по английскому  ...   2020-08-07   20621\n",
              "223885  319885  хочу работать педагогом -организатором  ...   2019-08-12   13465\n",
              "123421  176260                       Сотрудник полиции  ...   2020-06-07   42500\n",
              "131722  188049                              Специалист  ...   2020-06-23   49600\n",
              "\n",
              "[5 rows x 25 columns]"
            ]
          },
          "metadata": {
            "tags": []
          },
          "execution_count": 25
        }
      ]
    },
    {
      "cell_type": "markdown",
      "metadata": {
        "id": "-gTPj05z1qGZ"
      },
      "source": [
        "Чистка данных - самый важный и самый грустный момент в работе всякого датасаетниста. Но что поделать? Такими грустными и маленькими шажками мы двигаемся на пути к лучшей жизни!"
      ]
    },
    {
      "cell_type": "markdown",
      "metadata": {
        "id": "kIapf3-O17-V"
      },
      "source": [
        "Посмотрим на данные: куча текстовых признаков, признаки с большим количеством NaNов в своем строю, какие-то поля нужно разделить, какие-то и вовсе убрать... "
      ]
    },
    {
      "cell_type": "markdown",
      "metadata": {
        "id": "2TwyB2KbJN-5"
      },
      "source": [
        "## Водительские права"
      ]
    },
    {
      "cell_type": "markdown",
      "metadata": {
        "id": "dYXOik8T3nPm"
      },
      "source": [
        "Видим в столбце driving_licences много комбинаций, какие у людей могут быть права. "
      ]
    },
    {
      "cell_type": "code",
      "metadata": {
        "colab": {
          "base_uri": "https://localhost:8080/"
        },
        "id": "Sx4U2eMS36Bh",
        "outputId": "25e73823-c17c-4fd6-b703-d03b11d6c31c"
      },
      "source": [
        "train.drive_licences.value_counts()"
      ],
      "execution_count": 8,
      "outputs": [
        {
          "output_type": "execute_result",
          "data": {
            "text/plain": [
              "[B]                90304\n",
              "[B, C]             16871\n",
              "[A, B, C]           3634\n",
              "[A, B]              3315\n",
              "[B, C, D]           1661\n",
              "[B, C, D, E]        1402\n",
              "[A, B, C, D, E]     1210\n",
              "[B, C, E]           1038\n",
              "[A, B, C, D]         577\n",
              "[C]                  560\n",
              "[A]                  459\n",
              "[A, B, C, E]         417\n",
              "[B, D]               229\n",
              "[E]                   41\n",
              "[D]                   38\n",
              "[B, E]                33\n",
              "[C, E]                28\n",
              "[A, B, D]             24\n",
              "[A, C]                17\n",
              "[A, B, E]             15\n",
              "[C, D, E]             13\n",
              "[C, D]                13\n",
              "[B, D, E]             12\n",
              "[D, E]                 5\n",
              "[A, D]                 3\n",
              "[A, B, D, E]           3\n",
              "[A, C, D]              1\n",
              "[A, D, E]              1\n",
              "[A, C, E]              1\n",
              "Name: drive_licences, dtype: int64"
            ]
          },
          "metadata": {
            "tags": []
          },
          "execution_count": 8
        }
      ]
    },
    {
      "cell_type": "markdown",
      "metadata": {
        "id": "zmCP1-Hj4LjF"
      },
      "source": [
        "Поэтому делим все на бинарные фичи."
      ]
    },
    {
      "cell_type": "code",
      "metadata": {
        "id": "hzEPJP2NDGHk"
      },
      "source": [
        "X_train_new = train.drive_licences.fillna(\"N\")\r\n",
        "X_test_new = test.drive_licences.fillna(\"N\")"
      ],
      "execution_count": 26,
      "outputs": []
    },
    {
      "cell_type": "code",
      "metadata": {
        "id": "RS54dAPND6mB"
      },
      "source": [
        "drive_B = X_train_new.str.contains('B')\r\n",
        "df_drive_B = pd.DataFrame(drive_B).rename(columns={'drive_licences':'B'}).astype(int)\r\n",
        "\r\n",
        "drive_A = X_train_new.str.contains('A')\r\n",
        "df_drive_A = pd.DataFrame(drive_A).rename(columns={'drive_licences':'A'}).astype(int)\r\n",
        "\r\n",
        "drive_C = X_train_new.str.contains('C')\r\n",
        "df_drive_C = pd.DataFrame(drive_C).rename(columns={'drive_licences':'C'}).astype(int)\r\n",
        "\r\n",
        "drive_D = X_train_new.str.contains('D')\r\n",
        "df_drive_D = pd.DataFrame(drive_D).rename(columns={'drive_licences':'D'}).astype(int)\r\n",
        "\r\n",
        "drive_E = X_train_new.str.contains('E')\r\n",
        "df_drive_E = pd.DataFrame(drive_E).rename(columns={'drive_licences':'E'}).astype(int)"
      ],
      "execution_count": 27,
      "outputs": []
    },
    {
      "cell_type": "code",
      "metadata": {
        "id": "HEjfYHXuGu1z"
      },
      "source": [
        "new = [train, df_drive_A, df_drive_B, df_drive_C, df_drive_D, df_drive_E]\r\n",
        "train = pd.concat(new, axis=1)\r\n",
        "train.drop('drive_licences', axis=1, inplace=True)"
      ],
      "execution_count": 28,
      "outputs": []
    },
    {
      "cell_type": "markdown",
      "metadata": {
        "id": "DdUjdQH54ble"
      },
      "source": [
        "Параллельно не забываем менять test."
      ]
    },
    {
      "cell_type": "code",
      "metadata": {
        "id": "lGNhIUpjGT2J"
      },
      "source": [
        "drive_B = X_test_new.str.contains('B')\r\n",
        "df_drive_B = pd.DataFrame(drive_B).rename(columns={'drive_licences':'B'}).astype(int)\r\n",
        "\r\n",
        "drive_A = X_test_new.str.contains('A')\r\n",
        "df_drive_A = pd.DataFrame(drive_A).rename(columns={'drive_licences':'A'}).astype(int)\r\n",
        "\r\n",
        "drive_C = X_test_new.str.contains('C')\r\n",
        "df_drive_C = pd.DataFrame(drive_C).rename(columns={'drive_licences':'C'}).astype(int)\r\n",
        "\r\n",
        "drive_D = X_test_new.str.contains('D')\r\n",
        "df_drive_D = pd.DataFrame(drive_D).rename(columns={'drive_licences':'D'}).astype(int)\r\n",
        "\r\n",
        "drive_E = X_test_new.str.contains('E')\r\n",
        "df_drive_E = pd.DataFrame(drive_E).rename(columns={'drive_licences':'E'}).astype(int)"
      ],
      "execution_count": 29,
      "outputs": []
    },
    {
      "cell_type": "code",
      "metadata": {
        "id": "wtolrvUNFPjn"
      },
      "source": [
        "new = [test, df_drive_A, df_drive_B, df_drive_C, df_drive_D, df_drive_E]\r\n",
        "test = pd.concat(new, axis=1)\r\n",
        "test.drop('drive_licences', axis=1, inplace=True)"
      ],
      "execution_count": 30,
      "outputs": []
    },
    {
      "cell_type": "code",
      "metadata": {
        "id": "w1q6jxTuHteD",
        "colab": {
          "base_uri": "https://localhost:8080/",
          "height": 128
        },
        "outputId": "2323a54c-ad65-4e6e-80d7-43816bc076ec"
      },
      "source": [
        "train.sample(1)"
      ],
      "execution_count": 31,
      "outputs": [
        {
          "output_type": "execute_result",
          "data": {
            "text/html": [
              "<div>\n",
              "<style scoped>\n",
              "    .dataframe tbody tr th:only-of-type {\n",
              "        vertical-align: middle;\n",
              "    }\n",
              "\n",
              "    .dataframe tbody tr th {\n",
              "        vertical-align: top;\n",
              "    }\n",
              "\n",
              "    .dataframe thead th {\n",
              "        text-align: right;\n",
              "    }\n",
              "</style>\n",
              "<table border=\"1\" class=\"dataframe\">\n",
              "  <thead>\n",
              "    <tr style=\"text-align: right;\">\n",
              "      <th></th>\n",
              "      <th>id</th>\n",
              "      <th>position</th>\n",
              "      <th>region</th>\n",
              "      <th>industry</th>\n",
              "      <th>locality</th>\n",
              "      <th>locality_name</th>\n",
              "      <th>education_type</th>\n",
              "      <th>citizenship</th>\n",
              "      <th>schedule</th>\n",
              "      <th>employement_type</th>\n",
              "      <th>age</th>\n",
              "      <th>gender</th>\n",
              "      <th>experience</th>\n",
              "      <th>salary_desired</th>\n",
              "      <th>relocation_ready</th>\n",
              "      <th>travel_ready</th>\n",
              "      <th>retraining_ready</th>\n",
              "      <th>is_worldskills_participant</th>\n",
              "      <th>has_qualifications</th>\n",
              "      <th>completeness_rate</th>\n",
              "      <th>creation_date</th>\n",
              "      <th>modification_date</th>\n",
              "      <th>publish_date</th>\n",
              "      <th>salary</th>\n",
              "      <th>A</th>\n",
              "      <th>B</th>\n",
              "      <th>C</th>\n",
              "      <th>D</th>\n",
              "      <th>E</th>\n",
              "    </tr>\n",
              "  </thead>\n",
              "  <tbody>\n",
              "    <tr>\n",
              "      <th>218974</th>\n",
              "      <td>312802</td>\n",
              "      <td>Младший воспитатель</td>\n",
              "      <td>Тюменская область</td>\n",
              "      <td>Образование, наука</td>\n",
              "      <td>7200000100000</td>\n",
              "      <td>Тюмень</td>\n",
              "      <td>Среднее</td>\n",
              "      <td>Российская Федерация</td>\n",
              "      <td>Полный рабочий день</td>\n",
              "      <td>Полная занятость</td>\n",
              "      <td>26.0</td>\n",
              "      <td>Женский</td>\n",
              "      <td>0</td>\n",
              "      <td>20000</td>\n",
              "      <td>False</td>\n",
              "      <td>False</td>\n",
              "      <td>NaN</td>\n",
              "      <td>NaN</td>\n",
              "      <td>NaN</td>\n",
              "      <td>0.0</td>\n",
              "      <td>2020-03-02</td>\n",
              "      <td>2020-03-10</td>\n",
              "      <td>2020-03-02</td>\n",
              "      <td>25000</td>\n",
              "      <td>0</td>\n",
              "      <td>0</td>\n",
              "      <td>0</td>\n",
              "      <td>0</td>\n",
              "      <td>0</td>\n",
              "    </tr>\n",
              "  </tbody>\n",
              "</table>\n",
              "</div>"
            ],
            "text/plain": [
              "            id             position             region  ...  C  D  E\n",
              "218974  312802  Младший воспитатель  Тюменская область  ...  0  0  0\n",
              "\n",
              "[1 rows x 29 columns]"
            ]
          },
          "metadata": {
            "tags": []
          },
          "execution_count": 31
        }
      ]
    },
    {
      "cell_type": "markdown",
      "metadata": {
        "id": "4kuiqdG5JQ9V"
      },
      "source": [
        "## Gender"
      ]
    },
    {
      "cell_type": "markdown",
      "metadata": {
        "id": "8ngwKgnr4vqR"
      },
      "source": [
        "То же самое делаем с полом."
      ]
    },
    {
      "cell_type": "code",
      "metadata": {
        "id": "P5XgZJ49JcMV"
      },
      "source": [
        "X_train_new = train['gender'].fillna(\"N\")\r\n",
        "X_test_new = test['gender'].fillna(\"N\")"
      ],
      "execution_count": 32,
      "outputs": []
    },
    {
      "cell_type": "code",
      "metadata": {
        "id": "sCxq1ZejJcMW"
      },
      "source": [
        "men = X_train_new.str.contains('Мужской')\r\n",
        "df_men = pd.DataFrame(men).rename(columns={'gender':'men'}).astype(int)\r\n",
        "\r\n",
        "women = X_train_new.str.contains('Женский')\r\n",
        "df_women = pd.DataFrame(women).rename(columns={'gender':'women'}).astype(int)\r\n"
      ],
      "execution_count": 33,
      "outputs": []
    },
    {
      "cell_type": "code",
      "metadata": {
        "id": "3egX7rppJcMW"
      },
      "source": [
        "new = [train, df_men, df_women]\r\n",
        "train = pd.concat(new, axis=1)\r\n",
        "train.drop('gender', axis=1, inplace=True)"
      ],
      "execution_count": 34,
      "outputs": []
    },
    {
      "cell_type": "code",
      "metadata": {
        "id": "Mpjxch48JcMW"
      },
      "source": [
        "men = X_test_new.str.contains('Мужской')\r\n",
        "df_men = pd.DataFrame(men).rename(columns={'gender':'men'}).astype(int)\r\n",
        "\r\n",
        "women = X_test_new.str.contains('Женский')\r\n",
        "df_women = pd.DataFrame(women).rename(columns={'gender':'women'}).astype(int)\r\n"
      ],
      "execution_count": 35,
      "outputs": []
    },
    {
      "cell_type": "code",
      "metadata": {
        "id": "c-h3WaH8JcMX"
      },
      "source": [
        "new = [test, df_men, df_women]\r\n",
        "test = pd.concat(new, axis=1)\r\n",
        "test.drop('gender', axis=1, inplace=True)"
      ],
      "execution_count": 36,
      "outputs": []
    },
    {
      "cell_type": "code",
      "metadata": {
        "colab": {
          "base_uri": "https://localhost:8080/",
          "height": 112
        },
        "id": "zcIhhkvd5PKx",
        "outputId": "2d917271-d4bf-4af0-f271-c53300f45f9d"
      },
      "source": [
        "test.sample(1)"
      ],
      "execution_count": 37,
      "outputs": [
        {
          "output_type": "execute_result",
          "data": {
            "text/html": [
              "<div>\n",
              "<style scoped>\n",
              "    .dataframe tbody tr th:only-of-type {\n",
              "        vertical-align: middle;\n",
              "    }\n",
              "\n",
              "    .dataframe tbody tr th {\n",
              "        vertical-align: top;\n",
              "    }\n",
              "\n",
              "    .dataframe thead th {\n",
              "        text-align: right;\n",
              "    }\n",
              "</style>\n",
              "<table border=\"1\" class=\"dataframe\">\n",
              "  <thead>\n",
              "    <tr style=\"text-align: right;\">\n",
              "      <th></th>\n",
              "      <th>id</th>\n",
              "      <th>position</th>\n",
              "      <th>region</th>\n",
              "      <th>industry</th>\n",
              "      <th>locality</th>\n",
              "      <th>locality_name</th>\n",
              "      <th>education_type</th>\n",
              "      <th>citizenship</th>\n",
              "      <th>schedule</th>\n",
              "      <th>employement_type</th>\n",
              "      <th>age</th>\n",
              "      <th>experience</th>\n",
              "      <th>salary_desired</th>\n",
              "      <th>relocation_ready</th>\n",
              "      <th>travel_ready</th>\n",
              "      <th>retraining_ready</th>\n",
              "      <th>is_worldskills_participant</th>\n",
              "      <th>has_qualifications</th>\n",
              "      <th>completeness_rate</th>\n",
              "      <th>creation_date</th>\n",
              "      <th>modification_date</th>\n",
              "      <th>publish_date</th>\n",
              "      <th>A</th>\n",
              "      <th>B</th>\n",
              "      <th>C</th>\n",
              "      <th>D</th>\n",
              "      <th>E</th>\n",
              "      <th>men</th>\n",
              "      <th>women</th>\n",
              "    </tr>\n",
              "  </thead>\n",
              "  <tbody>\n",
              "    <tr>\n",
              "      <th>120998</th>\n",
              "      <td>403873</td>\n",
              "      <td>Психолог</td>\n",
              "      <td>Омская область</td>\n",
              "      <td>Образование, наука</td>\n",
              "      <td>5502500000100</td>\n",
              "      <td>Саргатское</td>\n",
              "      <td>Высшее</td>\n",
              "      <td>Российская Федерация</td>\n",
              "      <td>Гибкий график</td>\n",
              "      <td>Частичная занятость</td>\n",
              "      <td>31.0</td>\n",
              "      <td>5</td>\n",
              "      <td>18000</td>\n",
              "      <td>False</td>\n",
              "      <td>False</td>\n",
              "      <td>False</td>\n",
              "      <td>NaN</td>\n",
              "      <td>NaN</td>\n",
              "      <td>72.0</td>\n",
              "      <td>2020-06-21</td>\n",
              "      <td>2020-06-21</td>\n",
              "      <td>2020-06-21</td>\n",
              "      <td>0</td>\n",
              "      <td>0</td>\n",
              "      <td>0</td>\n",
              "      <td>0</td>\n",
              "      <td>0</td>\n",
              "      <td>0</td>\n",
              "      <td>1</td>\n",
              "    </tr>\n",
              "  </tbody>\n",
              "</table>\n",
              "</div>"
            ],
            "text/plain": [
              "            id  position          region            industry  ...  D  E men women\n",
              "120998  403873  Психолог  Омская область  Образование, наука  ...  0  0   0     1\n",
              "\n",
              "[1 rows x 29 columns]"
            ]
          },
          "metadata": {
            "tags": []
          },
          "execution_count": 37
        }
      ]
    },
    {
      "cell_type": "markdown",
      "metadata": {
        "id": "5OmdfduvPP7H"
      },
      "source": [
        "## Education type"
      ]
    },
    {
      "cell_type": "markdown",
      "metadata": {
        "id": "LLNpMNej6ESu"
      },
      "source": [
        "Здесь с препроцессингом везде копипаст, и менять названия не хочется, чтобы все разом не сломалось. "
      ]
    },
    {
      "cell_type": "code",
      "metadata": {
        "colab": {
          "base_uri": "https://localhost:8080/"
        },
        "id": "yoS9ZttEPRrw",
        "outputId": "28dbc0a1-9a3a-4b15-cd41-849d8585b4a7"
      },
      "source": [
        "train['education_type'].value_counts()"
      ],
      "execution_count": 38,
      "outputs": [
        {
          "output_type": "execute_result",
          "data": {
            "text/plain": [
              "Высшее                      135436\n",
              "Среднее профессиональное     79375\n",
              "Среднее                      38991\n",
              "Незаконченное высшее         12436\n",
              "Name: education_type, dtype: int64"
            ]
          },
          "metadata": {
            "tags": []
          },
          "execution_count": 38
        }
      ]
    },
    {
      "cell_type": "code",
      "metadata": {
        "id": "cCCJGiswP41v"
      },
      "source": [
        "X_train_new = train.education_type.fillna(\"N\")\r\n",
        "X_test_new = test.education_type.fillna(\"N\")"
      ],
      "execution_count": 39,
      "outputs": []
    },
    {
      "cell_type": "code",
      "metadata": {
        "id": "jkM5HrFRP418"
      },
      "source": [
        "drive_B = X_train_new.str.contains('Высшее')\r\n",
        "df_drive_B = pd.DataFrame(drive_B).rename(columns={'education_type':'edu_higher'}).astype(int)\r\n",
        "\r\n",
        "drive_A = X_train_new.str.contains('Среднее профессиональное')\r\n",
        "df_drive_A = pd.DataFrame(drive_A).rename(columns={'education_type':'edu_professional'}).astype(int)\r\n",
        "\r\n",
        "drive_C = X_train_new.str.contains('Среднее')\r\n",
        "df_drive_C = pd.DataFrame(drive_C).rename(columns={'education_type':'edu_middle'}).astype(int)\r\n",
        "\r\n",
        "drive_D = X_train_new.str.contains('Незаконченное высшее')\r\n",
        "df_drive_D = pd.DataFrame(drive_D).rename(columns={'education_type':'edu_notfinished'}).astype(int)\r\n"
      ],
      "execution_count": 40,
      "outputs": []
    },
    {
      "cell_type": "code",
      "metadata": {
        "id": "dZLIGhqKP418"
      },
      "source": [
        "new = [train, df_drive_A, df_drive_B, df_drive_C, df_drive_D]\r\n",
        "train = pd.concat(new, axis=1)\r\n",
        "train.drop('education_type', axis=1, inplace=True)\r\n"
      ],
      "execution_count": 41,
      "outputs": []
    },
    {
      "cell_type": "code",
      "metadata": {
        "id": "EfPfUtsxP419"
      },
      "source": [
        "drive_B = X_test_new.str.contains('Высшее')\r\n",
        "df_drive_B = pd.DataFrame(drive_B).rename(columns={'education_type':'edu_higher'}).astype(int)\r\n",
        "\r\n",
        "drive_A = X_test_new.str.contains('Среднее профессиональное')\r\n",
        "df_drive_A = pd.DataFrame(drive_A).rename(columns={'education_type':'edu_professional'}).astype(int)\r\n",
        "\r\n",
        "drive_C = X_test_new.str.contains('Среднее')\r\n",
        "df_drive_C = pd.DataFrame(drive_C).rename(columns={'education_type':'edu_middle'}).astype(int)\r\n",
        "\r\n",
        "drive_D = X_test_new.str.contains('Незаконченное высшее')\r\n",
        "df_drive_D = pd.DataFrame(drive_D).rename(columns={'education_type':'edu_notfinished'}).astype(int)\r\n"
      ],
      "execution_count": 42,
      "outputs": []
    },
    {
      "cell_type": "code",
      "metadata": {
        "id": "KNdgnvFdP419"
      },
      "source": [
        "new = [test, df_drive_A, df_drive_B, df_drive_C, df_drive_D]\r\n",
        "test = pd.concat(new, axis=1)\r\n",
        "test.drop('education_type', axis=1, inplace=True)"
      ],
      "execution_count": 43,
      "outputs": []
    },
    {
      "cell_type": "markdown",
      "metadata": {
        "id": "B1S0Pe2VUnkU"
      },
      "source": [
        "## Employment type "
      ]
    },
    {
      "cell_type": "code",
      "metadata": {
        "colab": {
          "base_uri": "https://localhost:8080/"
        },
        "id": "AC76IJIDUtZJ",
        "outputId": "f53daa32-0e5f-41ca-9d6d-59c6055ba14a"
      },
      "source": [
        "train.employement_type.value_counts()"
      ],
      "execution_count": 44,
      "outputs": [
        {
          "output_type": "execute_result",
          "data": {
            "text/plain": [
              "Полная занятость       287403\n",
              "Частичная занятость     12489\n",
              "Удаленная                3601\n",
              "Временная                1639\n",
              "Сезонная                  804\n",
              "Стажировка                334\n",
              "Name: employement_type, dtype: int64"
            ]
          },
          "metadata": {
            "tags": []
          },
          "execution_count": 44
        }
      ]
    },
    {
      "cell_type": "code",
      "metadata": {
        "id": "GMQzzqSZWZQa"
      },
      "source": [
        "X_train_new = train['employement_type'].fillna(\"N\")\r\n",
        "X_test_new = test['employement_type'].fillna(\"N\")"
      ],
      "execution_count": 45,
      "outputs": []
    },
    {
      "cell_type": "code",
      "metadata": {
        "id": "JZXIg0FuWVWz"
      },
      "source": [
        "drive_B = X_train_new.str.contains('Полная занятость')\r\n",
        "df_drive_B = pd.DataFrame(drive_B).rename(columns={'employement_type':'empl_full'}).astype(int)\r\n",
        "\r\n",
        "drive_A = X_train_new.str.contains('Частичная занятость')\r\n",
        "df_drive_A = pd.DataFrame(drive_A).rename(columns={'employement_type':'empl_part'}).astype(int)\r\n",
        "\r\n",
        "drive_C = X_train_new.str.contains('Удаленная')\r\n",
        "df_drive_C = pd.DataFrame(drive_C).rename(columns={'employement_type':'empl_distant'}).astype(int)\r\n",
        "\r\n",
        "drive_D = X_train_new.str.contains('Сезонная')\r\n",
        "df_drive_D = pd.DataFrame(drive_D).rename(columns={'employement_type':'empl_season'}).astype(int)\r\n",
        "\r\n",
        "drive_E = X_train_new.str.contains('Стажировка')\r\n",
        "df_drive_E = pd.DataFrame(drive_E).rename(columns={'employement_type':'empl_internship'}).astype(int)\r\n",
        "\r\n",
        "drive_F = X_train_new.str.contains('Временная')\r\n",
        "df_drive_F = pd.DataFrame(drive_F).rename(columns={'employement_type':'empl_temporary'}).astype(int)"
      ],
      "execution_count": 46,
      "outputs": []
    },
    {
      "cell_type": "code",
      "metadata": {
        "id": "qDIk7tEXWhb4"
      },
      "source": [
        "new = [train, df_drive_A, df_drive_B, df_drive_C, df_drive_D, df_drive_E, drive_F]\r\n",
        "train = pd.concat(new, axis=1)\r\n",
        "train.drop('employement_type', axis=1, inplace=True)"
      ],
      "execution_count": 47,
      "outputs": []
    },
    {
      "cell_type": "code",
      "metadata": {
        "id": "UohKVAg_VANZ"
      },
      "source": [
        "drive_B = X_test_new.str.contains('Полная занятость')\r\n",
        "df_drive_B = pd.DataFrame(drive_B).rename(columns={'employement_type':'empl_full'}).astype(int)\r\n",
        "\r\n",
        "drive_A = X_test_new.str.contains('Частичная занятость')\r\n",
        "df_drive_A = pd.DataFrame(drive_A).rename(columns={'employement_type':'empl_part'}).astype(int)\r\n",
        "\r\n",
        "drive_C = X_test_new.str.contains('Удаленная')\r\n",
        "df_drive_C = pd.DataFrame(drive_C).rename(columns={'employement_type':'empl_distant'}).astype(int)\r\n",
        "\r\n",
        "drive_D = X_test_new.str.contains('Сезонная')\r\n",
        "df_drive_D = pd.DataFrame(drive_D).rename(columns={'employement_type':'empl_season'}).astype(int)\r\n",
        "\r\n",
        "drive_E = X_test_new.str.contains('Стажировка')\r\n",
        "df_drive_E = pd.DataFrame(drive_E).rename(columns={'employement_type':'empl_internship'}).astype(int)\r\n",
        "\r\n",
        "drive_F = X_test_new.str.contains('Временная')\r\n",
        "df_drive_F = pd.DataFrame(drive_F).rename(columns={'employement_type':'empl_temporary'}).astype(int)"
      ],
      "execution_count": 48,
      "outputs": []
    },
    {
      "cell_type": "code",
      "metadata": {
        "id": "9dfu8_t6WguD"
      },
      "source": [
        "new = [test, df_drive_A, df_drive_B, df_drive_C, df_drive_D, df_drive_E, drive_F]\r\n",
        "test = pd.concat(new, axis=1)\r\n",
        "test.drop('employement_type', axis=1, inplace=True)"
      ],
      "execution_count": 49,
      "outputs": []
    },
    {
      "cell_type": "code",
      "metadata": {
        "id": "LABrB_61g-6q",
        "colab": {
          "base_uri": "https://localhost:8080/",
          "height": 267
        },
        "outputId": "26f59a0f-2eee-466d-af8b-9f872db3c504"
      },
      "source": [
        "test.sample(3)"
      ],
      "execution_count": 50,
      "outputs": [
        {
          "output_type": "execute_result",
          "data": {
            "text/html": [
              "<div>\n",
              "<style scoped>\n",
              "    .dataframe tbody tr th:only-of-type {\n",
              "        vertical-align: middle;\n",
              "    }\n",
              "\n",
              "    .dataframe tbody tr th {\n",
              "        vertical-align: top;\n",
              "    }\n",
              "\n",
              "    .dataframe thead th {\n",
              "        text-align: right;\n",
              "    }\n",
              "</style>\n",
              "<table border=\"1\" class=\"dataframe\">\n",
              "  <thead>\n",
              "    <tr style=\"text-align: right;\">\n",
              "      <th></th>\n",
              "      <th>id</th>\n",
              "      <th>position</th>\n",
              "      <th>region</th>\n",
              "      <th>industry</th>\n",
              "      <th>locality</th>\n",
              "      <th>locality_name</th>\n",
              "      <th>citizenship</th>\n",
              "      <th>schedule</th>\n",
              "      <th>age</th>\n",
              "      <th>experience</th>\n",
              "      <th>salary_desired</th>\n",
              "      <th>relocation_ready</th>\n",
              "      <th>travel_ready</th>\n",
              "      <th>retraining_ready</th>\n",
              "      <th>is_worldskills_participant</th>\n",
              "      <th>has_qualifications</th>\n",
              "      <th>completeness_rate</th>\n",
              "      <th>creation_date</th>\n",
              "      <th>modification_date</th>\n",
              "      <th>publish_date</th>\n",
              "      <th>A</th>\n",
              "      <th>B</th>\n",
              "      <th>C</th>\n",
              "      <th>D</th>\n",
              "      <th>E</th>\n",
              "      <th>men</th>\n",
              "      <th>women</th>\n",
              "      <th>edu_professional</th>\n",
              "      <th>edu_higher</th>\n",
              "      <th>edu_middle</th>\n",
              "      <th>edu_notfinished</th>\n",
              "      <th>empl_part</th>\n",
              "      <th>empl_full</th>\n",
              "      <th>empl_distant</th>\n",
              "      <th>empl_season</th>\n",
              "      <th>empl_internship</th>\n",
              "    </tr>\n",
              "  </thead>\n",
              "  <tbody>\n",
              "    <tr>\n",
              "      <th>25964</th>\n",
              "      <td>86632</td>\n",
              "      <td>Администратор,</td>\n",
              "      <td>Самарская область</td>\n",
              "      <td>Кадровая служба, управление персоналом</td>\n",
              "      <td>6300000700000</td>\n",
              "      <td>Тольятти</td>\n",
              "      <td>Российская Федерация</td>\n",
              "      <td>Полный рабочий день</td>\n",
              "      <td>37.0</td>\n",
              "      <td>0</td>\n",
              "      <td>40000</td>\n",
              "      <td>False</td>\n",
              "      <td>False</td>\n",
              "      <td>True</td>\n",
              "      <td>NaN</td>\n",
              "      <td>NaN</td>\n",
              "      <td>63.0</td>\n",
              "      <td>2020-04-09</td>\n",
              "      <td>2020-04-10</td>\n",
              "      <td>2020-04-09</td>\n",
              "      <td>0</td>\n",
              "      <td>0</td>\n",
              "      <td>0</td>\n",
              "      <td>0</td>\n",
              "      <td>0</td>\n",
              "      <td>0</td>\n",
              "      <td>1</td>\n",
              "      <td>1</td>\n",
              "      <td>0</td>\n",
              "      <td>1</td>\n",
              "      <td>0</td>\n",
              "      <td>0</td>\n",
              "      <td>1</td>\n",
              "      <td>0</td>\n",
              "      <td>0</td>\n",
              "      <td>0</td>\n",
              "    </tr>\n",
              "    <tr>\n",
              "      <th>43373</th>\n",
              "      <td>145037</td>\n",
              "      <td>Педагог начальных классов</td>\n",
              "      <td>Чеченская Республика</td>\n",
              "      <td>Образование, наука</td>\n",
              "      <td>2000000100000</td>\n",
              "      <td>Грозный</td>\n",
              "      <td>Российская Федерация</td>\n",
              "      <td>Полный рабочий день</td>\n",
              "      <td>16.0</td>\n",
              "      <td>0</td>\n",
              "      <td>25000</td>\n",
              "      <td>False</td>\n",
              "      <td>False</td>\n",
              "      <td>True</td>\n",
              "      <td>NaN</td>\n",
              "      <td>NaN</td>\n",
              "      <td>56.0</td>\n",
              "      <td>2020-08-20</td>\n",
              "      <td>2020-08-21</td>\n",
              "      <td>2020-08-21</td>\n",
              "      <td>0</td>\n",
              "      <td>0</td>\n",
              "      <td>0</td>\n",
              "      <td>0</td>\n",
              "      <td>0</td>\n",
              "      <td>0</td>\n",
              "      <td>1</td>\n",
              "      <td>0</td>\n",
              "      <td>0</td>\n",
              "      <td>1</td>\n",
              "      <td>0</td>\n",
              "      <td>1</td>\n",
              "      <td>0</td>\n",
              "      <td>0</td>\n",
              "      <td>0</td>\n",
              "      <td>0</td>\n",
              "    </tr>\n",
              "    <tr>\n",
              "      <th>81528</th>\n",
              "      <td>271290</td>\n",
              "      <td>Системный администратор</td>\n",
              "      <td>Ставропольский край</td>\n",
              "      <td>Информационные технологии, телекоммуникации, с...</td>\n",
              "      <td>2600000100000</td>\n",
              "      <td>Ставрополь</td>\n",
              "      <td>Российская Федерация</td>\n",
              "      <td>Полный рабочий день</td>\n",
              "      <td>37.0</td>\n",
              "      <td>6</td>\n",
              "      <td>23874</td>\n",
              "      <td>False</td>\n",
              "      <td>True</td>\n",
              "      <td>True</td>\n",
              "      <td>NaN</td>\n",
              "      <td>NaN</td>\n",
              "      <td>87.0</td>\n",
              "      <td>2019-12-26</td>\n",
              "      <td>2020-10-09</td>\n",
              "      <td>2019-12-27</td>\n",
              "      <td>0</td>\n",
              "      <td>0</td>\n",
              "      <td>0</td>\n",
              "      <td>0</td>\n",
              "      <td>0</td>\n",
              "      <td>1</td>\n",
              "      <td>0</td>\n",
              "      <td>0</td>\n",
              "      <td>0</td>\n",
              "      <td>1</td>\n",
              "      <td>0</td>\n",
              "      <td>0</td>\n",
              "      <td>1</td>\n",
              "      <td>0</td>\n",
              "      <td>0</td>\n",
              "      <td>0</td>\n",
              "    </tr>\n",
              "  </tbody>\n",
              "</table>\n",
              "</div>"
            ],
            "text/plain": [
              "           id                   position  ... empl_season empl_internship\n",
              "25964   86632             Администратор,  ...           0               0\n",
              "43373  145037  Педагог начальных классов  ...           0               0\n",
              "81528  271290    Системный администратор  ...           0               0\n",
              "\n",
              "[3 rows x 36 columns]"
            ]
          },
          "metadata": {
            "tags": []
          },
          "execution_count": 50
        }
      ]
    },
    {
      "cell_type": "markdown",
      "metadata": {
        "id": "pf13C7bChBHN"
      },
      "source": [
        "## Бинарные фичи"
      ]
    },
    {
      "cell_type": "markdown",
      "metadata": {
        "id": "SuTOPfpS6-PA"
      },
      "source": [
        "Здесь все, что не True мы делаем False. Возможно, это очень грубо, но метрика улучшилась :) Также заполняем nanы, чобы не мешались."
      ]
    },
    {
      "cell_type": "code",
      "metadata": {
        "id": "7Re-fRtchEZi"
      },
      "source": [
        "train['region'] = train['region'].fillna('N')\r\n",
        "test['region'] = test.region.fillna('N')"
      ],
      "execution_count": 51,
      "outputs": []
    },
    {
      "cell_type": "code",
      "metadata": {
        "id": "qiCEtj2_k-wP"
      },
      "source": [
        "train['age'] = train['age'].fillna(-999)\r\n",
        "test['age'] = test.age.fillna(-999)"
      ],
      "execution_count": 52,
      "outputs": []
    },
    {
      "cell_type": "markdown",
      "metadata": {
        "id": "gnPdcil88NXk"
      },
      "source": [
        "Далее логика такая - если не указано, значит False, не хочет человек переезжать"
      ]
    },
    {
      "cell_type": "code",
      "metadata": {
        "id": "lvK1y6brjS7p"
      },
      "source": [
        "train['travel_ready'] = train['travel_ready'].fillna(False)\r\n",
        "test['travel_ready'] = test.travel_ready.fillna(False)"
      ],
      "execution_count": 53,
      "outputs": []
    },
    {
      "cell_type": "code",
      "metadata": {
        "id": "L_CWrSuojnKi"
      },
      "source": [
        "train['retraining_ready'] = train['retraining_ready'].fillna(False)\r\n",
        "test['retraining_ready'] = test.retraining_ready.fillna(False)"
      ],
      "execution_count": 54,
      "outputs": []
    },
    {
      "cell_type": "markdown",
      "metadata": {
        "id": "kW3I-8wh8ZI4"
      },
      "source": [
        "Точно так же, если не указано, участвовал в Worldskills, будем считать, что не участвовал."
      ]
    },
    {
      "cell_type": "code",
      "metadata": {
        "id": "xxw75Ks9jux6"
      },
      "source": [
        "train['is_worldskills_participant'] = train['is_worldskills_participant'].fillna(False)\r\n",
        "test['is_worldskills_participant'] = test.is_worldskills_participant.fillna(False)\r\n",
        "\r\n",
        "\r\n",
        "train.loc[train['is_worldskills_participant'] == 'Участник движения, Данные подтверждены', 'is_worldskills_participant'] = True\r\n",
        "test.loc[test['is_worldskills_participant'] == 'Участник движения, Данные подтверждены', 'is_worldskills_participant'] = True\r\n",
        "train.loc[train['is_worldskills_participant'] == 'Участник движения', 'is_worldskills_participant'] = True\r\n",
        "test.loc[test['is_worldskills_participant'] == 'Участник движения', 'is_worldskills_participant'] = True"
      ],
      "execution_count": 58,
      "outputs": []
    },
    {
      "cell_type": "code",
      "metadata": {
        "id": "_wJIThm3j14b"
      },
      "source": [
        "train['has_qualifications'] = train['has_qualifications'].fillna(False)\r\n",
        "test['has_qualifications'] = test.has_qualifications.fillna(False)\r\n",
        "\r\n",
        "train.loc[train['has_qualifications'] == 'Свидетельство о независимой оценке квалификации', 'has_qualifications'] = True\r\n",
        "test.loc[test['has_qualifications'] == 'Свидетельство о независимой оценке квалификации', 'has_qualifications'] = True"
      ],
      "execution_count": 57,
      "outputs": []
    },
    {
      "cell_type": "code",
      "metadata": {
        "colab": {
          "base_uri": "https://localhost:8080/",
          "height": 390
        },
        "id": "wYHn6Jsd805h",
        "outputId": "3c21d066-554c-4325-9fe7-de60983609e5"
      },
      "source": [
        "train.sample(5)"
      ],
      "execution_count": 60,
      "outputs": [
        {
          "output_type": "execute_result",
          "data": {
            "text/html": [
              "<div>\n",
              "<style scoped>\n",
              "    .dataframe tbody tr th:only-of-type {\n",
              "        vertical-align: middle;\n",
              "    }\n",
              "\n",
              "    .dataframe tbody tr th {\n",
              "        vertical-align: top;\n",
              "    }\n",
              "\n",
              "    .dataframe thead th {\n",
              "        text-align: right;\n",
              "    }\n",
              "</style>\n",
              "<table border=\"1\" class=\"dataframe\">\n",
              "  <thead>\n",
              "    <tr style=\"text-align: right;\">\n",
              "      <th></th>\n",
              "      <th>id</th>\n",
              "      <th>position</th>\n",
              "      <th>region</th>\n",
              "      <th>industry</th>\n",
              "      <th>locality</th>\n",
              "      <th>locality_name</th>\n",
              "      <th>citizenship</th>\n",
              "      <th>schedule</th>\n",
              "      <th>age</th>\n",
              "      <th>experience</th>\n",
              "      <th>salary_desired</th>\n",
              "      <th>relocation_ready</th>\n",
              "      <th>travel_ready</th>\n",
              "      <th>retraining_ready</th>\n",
              "      <th>is_worldskills_participant</th>\n",
              "      <th>has_qualifications</th>\n",
              "      <th>completeness_rate</th>\n",
              "      <th>creation_date</th>\n",
              "      <th>modification_date</th>\n",
              "      <th>publish_date</th>\n",
              "      <th>salary</th>\n",
              "      <th>A</th>\n",
              "      <th>B</th>\n",
              "      <th>C</th>\n",
              "      <th>D</th>\n",
              "      <th>E</th>\n",
              "      <th>men</th>\n",
              "      <th>women</th>\n",
              "      <th>edu_professional</th>\n",
              "      <th>edu_higher</th>\n",
              "      <th>edu_middle</th>\n",
              "      <th>edu_notfinished</th>\n",
              "      <th>empl_part</th>\n",
              "      <th>empl_full</th>\n",
              "      <th>empl_distant</th>\n",
              "      <th>empl_season</th>\n",
              "      <th>empl_internship</th>\n",
              "    </tr>\n",
              "  </thead>\n",
              "  <tbody>\n",
              "    <tr>\n",
              "      <th>40515</th>\n",
              "      <td>57813</td>\n",
              "      <td>Продавец</td>\n",
              "      <td>Свердловская область</td>\n",
              "      <td>Продажи, закупки, снабжение, торговля</td>\n",
              "      <td>6600002300000</td>\n",
              "      <td>Нижний Тагил</td>\n",
              "      <td>Российская Федерация</td>\n",
              "      <td>Гибкий график,Сменный график</td>\n",
              "      <td>36.0</td>\n",
              "      <td>0</td>\n",
              "      <td>30000</td>\n",
              "      <td>False</td>\n",
              "      <td>False</td>\n",
              "      <td>True</td>\n",
              "      <td>False</td>\n",
              "      <td>False</td>\n",
              "      <td>68.0</td>\n",
              "      <td>2020-04-29</td>\n",
              "      <td>2020-04-30</td>\n",
              "      <td>2020-04-30</td>\n",
              "      <td>20000</td>\n",
              "      <td>0</td>\n",
              "      <td>0</td>\n",
              "      <td>0</td>\n",
              "      <td>0</td>\n",
              "      <td>0</td>\n",
              "      <td>0</td>\n",
              "      <td>1</td>\n",
              "      <td>0</td>\n",
              "      <td>0</td>\n",
              "      <td>1</td>\n",
              "      <td>0</td>\n",
              "      <td>0</td>\n",
              "      <td>1</td>\n",
              "      <td>0</td>\n",
              "      <td>0</td>\n",
              "      <td>0</td>\n",
              "    </tr>\n",
              "    <tr>\n",
              "      <th>127668</th>\n",
              "      <td>182334</td>\n",
              "      <td>Бухгалтер, менеджер</td>\n",
              "      <td>Красноярский край</td>\n",
              "      <td>Административная работа, секретариат, АХО</td>\n",
              "      <td>2400000900000</td>\n",
              "      <td>Норильск</td>\n",
              "      <td>Российская Федерация</td>\n",
              "      <td>Полный рабочий день</td>\n",
              "      <td>37.0</td>\n",
              "      <td>6</td>\n",
              "      <td>35000</td>\n",
              "      <td>False</td>\n",
              "      <td>False</td>\n",
              "      <td>False</td>\n",
              "      <td>False</td>\n",
              "      <td>False</td>\n",
              "      <td>65.0</td>\n",
              "      <td>2019-10-27</td>\n",
              "      <td>2020-08-26</td>\n",
              "      <td>2020-08-26</td>\n",
              "      <td>47948</td>\n",
              "      <td>0</td>\n",
              "      <td>0</td>\n",
              "      <td>0</td>\n",
              "      <td>0</td>\n",
              "      <td>0</td>\n",
              "      <td>0</td>\n",
              "      <td>1</td>\n",
              "      <td>0</td>\n",
              "      <td>1</td>\n",
              "      <td>0</td>\n",
              "      <td>0</td>\n",
              "      <td>0</td>\n",
              "      <td>1</td>\n",
              "      <td>0</td>\n",
              "      <td>0</td>\n",
              "      <td>0</td>\n",
              "    </tr>\n",
              "    <tr>\n",
              "      <th>207248</th>\n",
              "      <td>295992</td>\n",
              "      <td>Продавец кассир, администратор</td>\n",
              "      <td>Тульская область</td>\n",
              "      <td>Продажи, закупки, снабжение, торговля</td>\n",
              "      <td>7100000200000</td>\n",
              "      <td>Донской</td>\n",
              "      <td>Российская Федерация</td>\n",
              "      <td>Полный рабочий день</td>\n",
              "      <td>47.0</td>\n",
              "      <td>1</td>\n",
              "      <td>20000</td>\n",
              "      <td>False</td>\n",
              "      <td>False</td>\n",
              "      <td>False</td>\n",
              "      <td>False</td>\n",
              "      <td>False</td>\n",
              "      <td>58.0</td>\n",
              "      <td>2020-04-19</td>\n",
              "      <td>2020-04-20</td>\n",
              "      <td>2020-04-20</td>\n",
              "      <td>15567</td>\n",
              "      <td>0</td>\n",
              "      <td>0</td>\n",
              "      <td>0</td>\n",
              "      <td>0</td>\n",
              "      <td>0</td>\n",
              "      <td>0</td>\n",
              "      <td>1</td>\n",
              "      <td>1</td>\n",
              "      <td>0</td>\n",
              "      <td>1</td>\n",
              "      <td>0</td>\n",
              "      <td>0</td>\n",
              "      <td>1</td>\n",
              "      <td>0</td>\n",
              "      <td>0</td>\n",
              "      <td>0</td>\n",
              "    </tr>\n",
              "    <tr>\n",
              "      <th>75230</th>\n",
              "      <td>107454</td>\n",
              "      <td>Переводчик с английского языка</td>\n",
              "      <td>Новосибирская область</td>\n",
              "      <td>Государственная служба, некоммерческие организ...</td>\n",
              "      <td>5400000200000</td>\n",
              "      <td>Бердск</td>\n",
              "      <td>Российская Федерация</td>\n",
              "      <td>Полный рабочий день</td>\n",
              "      <td>28.0</td>\n",
              "      <td>6</td>\n",
              "      <td>25950</td>\n",
              "      <td>False</td>\n",
              "      <td>True</td>\n",
              "      <td>True</td>\n",
              "      <td>False</td>\n",
              "      <td>False</td>\n",
              "      <td>79.0</td>\n",
              "      <td>2017-05-15</td>\n",
              "      <td>2019-08-14</td>\n",
              "      <td>2019-08-14</td>\n",
              "      <td>33735</td>\n",
              "      <td>0</td>\n",
              "      <td>0</td>\n",
              "      <td>0</td>\n",
              "      <td>0</td>\n",
              "      <td>0</td>\n",
              "      <td>0</td>\n",
              "      <td>1</td>\n",
              "      <td>0</td>\n",
              "      <td>1</td>\n",
              "      <td>0</td>\n",
              "      <td>0</td>\n",
              "      <td>0</td>\n",
              "      <td>1</td>\n",
              "      <td>0</td>\n",
              "      <td>0</td>\n",
              "      <td>0</td>\n",
              "    </tr>\n",
              "    <tr>\n",
              "      <th>15772</th>\n",
              "      <td>22434</td>\n",
              "      <td>Продавец</td>\n",
              "      <td>Пермский край</td>\n",
              "      <td>Продажи, закупки, снабжение, торговля</td>\n",
              "      <td>5902000002400</td>\n",
              "      <td>Фролы</td>\n",
              "      <td>Российская Федерация</td>\n",
              "      <td>Полный рабочий день</td>\n",
              "      <td>38.0</td>\n",
              "      <td>9</td>\n",
              "      <td>30000</td>\n",
              "      <td>NaN</td>\n",
              "      <td>False</td>\n",
              "      <td>True</td>\n",
              "      <td>False</td>\n",
              "      <td>False</td>\n",
              "      <td>59.0</td>\n",
              "      <td>2020-07-21</td>\n",
              "      <td>2020-08-01</td>\n",
              "      <td>2020-07-21</td>\n",
              "      <td>24288</td>\n",
              "      <td>0</td>\n",
              "      <td>0</td>\n",
              "      <td>0</td>\n",
              "      <td>0</td>\n",
              "      <td>0</td>\n",
              "      <td>0</td>\n",
              "      <td>1</td>\n",
              "      <td>1</td>\n",
              "      <td>0</td>\n",
              "      <td>1</td>\n",
              "      <td>0</td>\n",
              "      <td>0</td>\n",
              "      <td>1</td>\n",
              "      <td>0</td>\n",
              "      <td>0</td>\n",
              "      <td>0</td>\n",
              "    </tr>\n",
              "  </tbody>\n",
              "</table>\n",
              "</div>"
            ],
            "text/plain": [
              "            id                        position  ... empl_season empl_internship\n",
              "40515    57813                        Продавец  ...           0               0\n",
              "127668  182334             Бухгалтер, менеджер  ...           0               0\n",
              "207248  295992  Продавец кассир, администратор  ...           0               0\n",
              "75230   107454  Переводчик с английского языка  ...           0               0\n",
              "15772    22434                        Продавец  ...           0               0\n",
              "\n",
              "[5 rows x 37 columns]"
            ]
          },
          "metadata": {
            "tags": []
          },
          "execution_count": 60
        }
      ]
    },
    {
      "cell_type": "markdown",
      "metadata": {
        "id": "9SQa4Uwc5PNn"
      },
      "source": [
        "## Текстовые фичи"
      ]
    },
    {
      "cell_type": "markdown",
      "metadata": {
        "id": "9q46bkJb87oK"
      },
      "source": [
        "С текстовыми фичами разговор короткий - убираем запятые, приводим к нижнему регистру, оставляем только русские буквы. Так как мы используем Catboost, не обязательно переводить текст в векторы, ведь он сам над ними колдует. Именно за это мы любим Catboost (а не из-за того, что в его названии есть котик)."
      ]
    },
    {
      "cell_type": "code",
      "metadata": {
        "id": "bfO7xuXE9mR-"
      },
      "source": [
        "def clean(text):\r\n",
        "  k = np.zeros_like(text)\r\n",
        "  reg = re.compile('[^а-яА-Я ]')\r\n",
        "  for n, i in enumerate(text):\r\n",
        "    i = str(i)\r\n",
        "    i = reg.sub(' ', i)\r\n",
        "    i = re.sub(r'\\s+', ' ', i)\r\n",
        "    i = i.lower()\r\n",
        "    k[n] = i\r\n",
        "  return k"
      ],
      "execution_count": 61,
      "outputs": []
    },
    {
      "cell_type": "code",
      "metadata": {
        "id": "RSqOVySz5TUr"
      },
      "source": [
        "train['industry'] = clean(train['industry'])\r\n",
        "test['industry'] = clean(test['industry'])"
      ],
      "execution_count": 62,
      "outputs": []
    },
    {
      "cell_type": "code",
      "metadata": {
        "id": "CayCp23v9bQo"
      },
      "source": [
        "train['position'] = clean(train['position'])\r\n",
        "test['position'] = clean(test['position'])"
      ],
      "execution_count": 63,
      "outputs": []
    },
    {
      "cell_type": "markdown",
      "metadata": {
        "id": "-00XKXPF-pLK"
      },
      "source": [
        "## Дата"
      ]
    },
    {
      "cell_type": "markdown",
      "metadata": {
        "id": "DNSgN1nT-sE-"
      },
      "source": [
        "Из всех предложенных дат мы решили оставить дату публикации, и то только год. Это показалось логичным и улучшило скор!"
      ]
    },
    {
      "cell_type": "code",
      "metadata": {
        "id": "kgF_ppUV-oih"
      },
      "source": [
        "train.publish_date = train.publish_date.apply(lambda x: x[:4])\r\n",
        "train.publish_date = train.publish_date.apply(lambda x: x[:4])"
      ],
      "execution_count": 64,
      "outputs": []
    },
    {
      "cell_type": "code",
      "metadata": {
        "colab": {
          "base_uri": "https://localhost:8080/",
          "height": 373
        },
        "id": "gX4RHp3M-8BU",
        "outputId": "b5de3b67-15ff-4dc3-c09a-0c59eb1253b2"
      },
      "source": [
        "train.sample(5)"
      ],
      "execution_count": 66,
      "outputs": [
        {
          "output_type": "execute_result",
          "data": {
            "text/html": [
              "<div>\n",
              "<style scoped>\n",
              "    .dataframe tbody tr th:only-of-type {\n",
              "        vertical-align: middle;\n",
              "    }\n",
              "\n",
              "    .dataframe tbody tr th {\n",
              "        vertical-align: top;\n",
              "    }\n",
              "\n",
              "    .dataframe thead th {\n",
              "        text-align: right;\n",
              "    }\n",
              "</style>\n",
              "<table border=\"1\" class=\"dataframe\">\n",
              "  <thead>\n",
              "    <tr style=\"text-align: right;\">\n",
              "      <th></th>\n",
              "      <th>id</th>\n",
              "      <th>position</th>\n",
              "      <th>region</th>\n",
              "      <th>industry</th>\n",
              "      <th>locality</th>\n",
              "      <th>locality_name</th>\n",
              "      <th>citizenship</th>\n",
              "      <th>schedule</th>\n",
              "      <th>age</th>\n",
              "      <th>experience</th>\n",
              "      <th>salary_desired</th>\n",
              "      <th>relocation_ready</th>\n",
              "      <th>travel_ready</th>\n",
              "      <th>retraining_ready</th>\n",
              "      <th>is_worldskills_participant</th>\n",
              "      <th>has_qualifications</th>\n",
              "      <th>completeness_rate</th>\n",
              "      <th>creation_date</th>\n",
              "      <th>modification_date</th>\n",
              "      <th>publish_date</th>\n",
              "      <th>salary</th>\n",
              "      <th>A</th>\n",
              "      <th>B</th>\n",
              "      <th>C</th>\n",
              "      <th>D</th>\n",
              "      <th>E</th>\n",
              "      <th>men</th>\n",
              "      <th>women</th>\n",
              "      <th>edu_professional</th>\n",
              "      <th>edu_higher</th>\n",
              "      <th>edu_middle</th>\n",
              "      <th>edu_notfinished</th>\n",
              "      <th>empl_part</th>\n",
              "      <th>empl_full</th>\n",
              "      <th>empl_distant</th>\n",
              "      <th>empl_season</th>\n",
              "      <th>empl_internship</th>\n",
              "    </tr>\n",
              "  </thead>\n",
              "  <tbody>\n",
              "    <tr>\n",
              "      <th>305763</th>\n",
              "      <td>436787</td>\n",
              "      <td>продавец консультант</td>\n",
              "      <td>Республика Саха (Якутия)</td>\n",
              "      <td>продажи закупки снабжение торговля</td>\n",
              "      <td>1400000100000</td>\n",
              "      <td>Якутск</td>\n",
              "      <td>Российская Федерация</td>\n",
              "      <td>Полный рабочий день</td>\n",
              "      <td>21.0</td>\n",
              "      <td>0</td>\n",
              "      <td>45000</td>\n",
              "      <td>NaN</td>\n",
              "      <td>False</td>\n",
              "      <td>True</td>\n",
              "      <td>False</td>\n",
              "      <td>False</td>\n",
              "      <td>66.0</td>\n",
              "      <td>2020-04-25</td>\n",
              "      <td>2020-04-25</td>\n",
              "      <td>2020</td>\n",
              "      <td>33120</td>\n",
              "      <td>0</td>\n",
              "      <td>0</td>\n",
              "      <td>0</td>\n",
              "      <td>0</td>\n",
              "      <td>0</td>\n",
              "      <td>1</td>\n",
              "      <td>0</td>\n",
              "      <td>0</td>\n",
              "      <td>0</td>\n",
              "      <td>1</td>\n",
              "      <td>0</td>\n",
              "      <td>0</td>\n",
              "      <td>1</td>\n",
              "      <td>0</td>\n",
              "      <td>0</td>\n",
              "      <td>0</td>\n",
              "    </tr>\n",
              "    <tr>\n",
              "      <th>147568</th>\n",
              "      <td>210812</td>\n",
              "      <td>учитель английского языка</td>\n",
              "      <td>Астраханская область</td>\n",
              "      <td>образование наука</td>\n",
              "      <td>3000000100000</td>\n",
              "      <td>Астрахань</td>\n",
              "      <td>Российская Федерация</td>\n",
              "      <td>Полный рабочий день</td>\n",
              "      <td>32.0</td>\n",
              "      <td>6</td>\n",
              "      <td>20000</td>\n",
              "      <td>NaN</td>\n",
              "      <td>False</td>\n",
              "      <td>False</td>\n",
              "      <td>False</td>\n",
              "      <td>False</td>\n",
              "      <td>64.0</td>\n",
              "      <td>2020-04-18</td>\n",
              "      <td>2020-05-18</td>\n",
              "      <td>2020</td>\n",
              "      <td>16560</td>\n",
              "      <td>0</td>\n",
              "      <td>1</td>\n",
              "      <td>0</td>\n",
              "      <td>0</td>\n",
              "      <td>0</td>\n",
              "      <td>0</td>\n",
              "      <td>1</td>\n",
              "      <td>0</td>\n",
              "      <td>1</td>\n",
              "      <td>0</td>\n",
              "      <td>0</td>\n",
              "      <td>0</td>\n",
              "      <td>1</td>\n",
              "      <td>0</td>\n",
              "      <td>0</td>\n",
              "      <td>0</td>\n",
              "    </tr>\n",
              "    <tr>\n",
              "      <th>116173</th>\n",
              "      <td>165851</td>\n",
              "      <td>инженер проектировщик</td>\n",
              "      <td>Новосибирская область</td>\n",
              "      <td>информационные технологии телекоммуникации связь</td>\n",
              "      <td>5400000100000</td>\n",
              "      <td>Новосибирск</td>\n",
              "      <td>Российская Федерация</td>\n",
              "      <td>Полный рабочий день</td>\n",
              "      <td>43.0</td>\n",
              "      <td>14</td>\n",
              "      <td>35000</td>\n",
              "      <td>True</td>\n",
              "      <td>True</td>\n",
              "      <td>True</td>\n",
              "      <td>False</td>\n",
              "      <td>False</td>\n",
              "      <td>87.0</td>\n",
              "      <td>2017-08-30</td>\n",
              "      <td>2020-11-01</td>\n",
              "      <td>2020</td>\n",
              "      <td>93840</td>\n",
              "      <td>0</td>\n",
              "      <td>1</td>\n",
              "      <td>0</td>\n",
              "      <td>0</td>\n",
              "      <td>0</td>\n",
              "      <td>1</td>\n",
              "      <td>0</td>\n",
              "      <td>0</td>\n",
              "      <td>1</td>\n",
              "      <td>0</td>\n",
              "      <td>0</td>\n",
              "      <td>0</td>\n",
              "      <td>1</td>\n",
              "      <td>0</td>\n",
              "      <td>0</td>\n",
              "      <td>0</td>\n",
              "    </tr>\n",
              "    <tr>\n",
              "      <th>152810</th>\n",
              "      <td>218249</td>\n",
              "      <td>электромонтажник по силовым сетям и электрообо...</td>\n",
              "      <td>Белгородская область</td>\n",
              "      <td>производство</td>\n",
              "      <td>3101800051700</td>\n",
              "      <td>Пасечный</td>\n",
              "      <td>Российская Федерация</td>\n",
              "      <td>Полный рабочий день,Вахтовый метод</td>\n",
              "      <td>30.0</td>\n",
              "      <td>1</td>\n",
              "      <td>36330</td>\n",
              "      <td>True</td>\n",
              "      <td>True</td>\n",
              "      <td>True</td>\n",
              "      <td>False</td>\n",
              "      <td>False</td>\n",
              "      <td>65.0</td>\n",
              "      <td>2019-02-28</td>\n",
              "      <td>2019-05-17</td>\n",
              "      <td>2019</td>\n",
              "      <td>114596</td>\n",
              "      <td>0</td>\n",
              "      <td>1</td>\n",
              "      <td>1</td>\n",
              "      <td>0</td>\n",
              "      <td>0</td>\n",
              "      <td>1</td>\n",
              "      <td>0</td>\n",
              "      <td>1</td>\n",
              "      <td>0</td>\n",
              "      <td>1</td>\n",
              "      <td>0</td>\n",
              "      <td>0</td>\n",
              "      <td>1</td>\n",
              "      <td>0</td>\n",
              "      <td>0</td>\n",
              "      <td>0</td>\n",
              "    </tr>\n",
              "    <tr>\n",
              "      <th>240137</th>\n",
              "      <td>343108</td>\n",
              "      <td>специалист эколог</td>\n",
              "      <td>Краснодарский край</td>\n",
              "      <td>производство</td>\n",
              "      <td>2300000300000</td>\n",
              "      <td>Геленджик</td>\n",
              "      <td>Российская Федерация</td>\n",
              "      <td>Полный рабочий день</td>\n",
              "      <td>23.0</td>\n",
              "      <td>3</td>\n",
              "      <td>30000</td>\n",
              "      <td>True</td>\n",
              "      <td>True</td>\n",
              "      <td>True</td>\n",
              "      <td>False</td>\n",
              "      <td>False</td>\n",
              "      <td>74.0</td>\n",
              "      <td>2020-06-09</td>\n",
              "      <td>2020-06-09</td>\n",
              "      <td>2020</td>\n",
              "      <td>19500</td>\n",
              "      <td>0</td>\n",
              "      <td>1</td>\n",
              "      <td>0</td>\n",
              "      <td>0</td>\n",
              "      <td>0</td>\n",
              "      <td>0</td>\n",
              "      <td>1</td>\n",
              "      <td>1</td>\n",
              "      <td>0</td>\n",
              "      <td>1</td>\n",
              "      <td>0</td>\n",
              "      <td>0</td>\n",
              "      <td>1</td>\n",
              "      <td>0</td>\n",
              "      <td>0</td>\n",
              "      <td>0</td>\n",
              "    </tr>\n",
              "  </tbody>\n",
              "</table>\n",
              "</div>"
            ],
            "text/plain": [
              "            id  ... empl_internship\n",
              "305763  436787  ...               0\n",
              "147568  210812  ...               0\n",
              "116173  165851  ...               0\n",
              "152810  218249  ...               0\n",
              "240137  343108  ...               0\n",
              "\n",
              "[5 rows x 37 columns]"
            ]
          },
          "metadata": {
            "tags": []
          },
          "execution_count": 66
        }
      ]
    },
    {
      "cell_type": "markdown",
      "metadata": {
        "id": "XL3xXger_S1M"
      },
      "source": [
        "Далее, при обучении моделей, мы то выкидывали, то включали некоторые фичи."
      ]
    }
  ]
}